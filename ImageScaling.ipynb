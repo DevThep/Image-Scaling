{
 "cells": [
  {
   "cell_type": "markdown",
   "metadata": {},
   "source": [
    "### Numerical Methods Project By:\n",
    "## Peter Struschka(ID Here) & Phornthep Sachdev(5680836)"
   ]
  },
  {
   "cell_type": "code",
   "execution_count": 4,
   "metadata": {
    "collapsed": false
   },
   "outputs": [],
   "source": [
    "from matplotlib import pyplot as plt\n",
    "import numpy as np\n",
    "import math\n",
    "import scipy.misc\n",
    "import scipy.ndimage"
   ]
  },
  {
   "cell_type": "markdown",
   "metadata": {
    "collapsed": true
   },
   "source": [
    "### For scipy.misc to work : need to install pillow\n",
    "#### $ pip install pillow"
   ]
  },
  {
   "cell_type": "markdown",
   "metadata": {},
   "source": [
    "The first method is a naive method called nearest neighbor interpolation and here is the function for upscaling.     \n",
    "#### To run [Example]: nearest_nbr_up(\"mario.png\",4,\"newmario.png\")\n",
    "#### Takes scale input as int.\n",
    "#### Make sure the images are in the same directory as this ipynb notebook."
   ]
  },
  {
   "cell_type": "code",
   "execution_count": 14,
   "metadata": {
    "collapsed": false
   },
   "outputs": [
    {
     "name": "stdout",
     "output_type": "stream",
     "text": [
      "Done Nearest Neighbor Inter. -> Check directory for scaled Image\n"
     ]
    }
   ],
   "source": [
    "def nearest_nbr_up(img,scale,new_name):\n",
    "\tImg = plt.imread(img)\n",
    "\tdim = Img.shape\n",
    "\tn_col, n_row = dim[0],dim[1]\n",
    "\tx = dim[0]*scale\n",
    "\ty = dim[1]*scale\n",
    "\tz = dim[2]\n",
    "\tx_ratio = n_col/float(x)\n",
    "\ty_ratio = n_row/float(y)\n",
    "\tscaled = np.empty([x,y,z])\n",
    "\n",
    "\tfor row in range(y):\n",
    "\t\tfor col in range(x):\n",
    "\t\t\tp_row = int(math.floor(row*y_ratio))\n",
    "\t\t\tp_col = int(math.floor(col*x_ratio))\n",
    "\t\t\tscaled[col,row] = Img[p_col,p_row]\n",
    "\tscipy.misc.imsave(new_name, scaled)\n",
    "\treturn \"Done Nearest Neighbor Inter. -> Check directory for scaled Image\"\n",
    "\n",
    "# print nearest_nbr_up(\"mario.png\",4,\"pixelatedmario.png\")"
   ]
  },
  {
   "cell_type": "markdown",
   "metadata": {},
   "source": [
    "This second method is much better at smoothening the edges because we interpolate between the points to put the perfect blend of colors between the whitespaces when upscaling. This also works for downscaling.\n",
    "\n",
    "#### Takes scale input as int or float"
   ]
  },
  {
   "cell_type": "code",
   "execution_count": 20,
   "metadata": {
    "collapsed": false
   },
   "outputs": [],
   "source": [
    "def bilinearInterpolation(image, scale,new_name):\n",
    "    Img = plt.imread(image)\n",
    "    dim = Img.shape\n",
    "    y = dim[0]\n",
    "    x = dim[1]\n",
    "    z = dim[2]\n",
    "    scaled = np.zeros([int(y*scale),int(x*scale),z])\n",
    "    xn = len(scaled[0])\n",
    "    yn = len(scaled)\n",
    "    #print scaled\n",
    "    for row in range(yn):\n",
    "        for col in range(xn):\n",
    "            y0 = row\n",
    "            x0 = col\n",
    "            x00 = x0/scale\n",
    "            x1 = int(math.floor(x00))\n",
    "            # Check the bound of new pixel relative to the original image#\n",
    "            if x1+1 < x: #If inbound\n",
    "                x2 = x1+1\n",
    "            else: #If out of bound\n",
    "                x1 -= 1\n",
    "                x2 = x1+1\n",
    "            y00 = y0/scale\n",
    "            y1 = int(math.floor(y00))\n",
    "            if y1+1 < y:\n",
    "                y2 = y1+1\n",
    "            else:\n",
    "                y1 -= 1\n",
    "                y2 = y1+1\n",
    "                \n",
    "            #Interpolate in x-direction\n",
    "            fx_y1 = (((x2-x00)/(x2-x1))*Img[y1,x1])+(((x00-x1)/(x2-x1))*Img[y1,x2])\n",
    "            fx_y2 = (((x2-x00)/(x2-x1))*Img[y2,x1])+(((x00-x1)/(x2-x1))*Img[y2,x2])\n",
    "            #Interpolate in y-direction\n",
    "            fx_y = (((y2-y00)/(y2-y1))*fx_y1)+(((y00-y1)/(y2-y1))*fx_y2)\n",
    "            scaled[row,col] = fx_y\n",
    "    scipy.misc.imsave(new_name, scaled)\n",
    "    return \"Done Bilinear Inter. -> Check directory for scaled image\"\n",
    "\n",
    "# print bilinearInterpolation(\"mario.png\",2,\"smoothedgemario.png\")"
   ]
  },
  {
   "cell_type": "code",
   "execution_count": null,
   "metadata": {
    "collapsed": true
   },
   "outputs": [],
   "source": []
  }
 ],
 "metadata": {
  "kernelspec": {
   "display_name": "Python 2",
   "language": "python",
   "name": "python2"
  },
  "language_info": {
   "codemirror_mode": {
    "name": "ipython",
    "version": 2
   },
   "file_extension": ".py",
   "mimetype": "text/x-python",
   "name": "python",
   "nbconvert_exporter": "python",
   "pygments_lexer": "ipython2",
   "version": "2.7.12"
  }
 },
 "nbformat": 4,
 "nbformat_minor": 0
}
